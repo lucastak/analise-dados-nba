{
 "cells": [
  {
   "cell_type": "markdown",
   "metadata": {
    "id": "Cz5jIHTsLtMk"
   },
   "source": [
    "# **CEFET/RJ Nova Friburgo**\n",
    "## **Gestão do Conhecimento e da Informação**\n",
    "### Teste de Qui-Quadrado\n",
    "#### Professor Rafael Escalfoni\n",
    "*Material adaptado do curso \"Data Analysis Tools - Wesleyan University\"*\n",
    "\n",
    "Antes de começar, vamos caracterizar a nossa questão de pesquisa, variáveis e hipóteses.\n",
    "\n",
    "---\n",
    "\n",
    "###**Questão de pesquisa**\n",
    "Qual é a frequência que uma pessoa fuma relacionada ao vício de nicotina?\n",
    "\n",
    "Frequência com que uma pessoa fuma está relacionada  a dependência à nicotina? São fatos dependentes?\n",
    "\n",
    "\n",
    "\n",
    "> As taxas de dependência de nicotina são iguais ou diferentes entre os indivíduos de diferentes categorias de frequência de fumantes?\n",
    "\n",
    "\n",
    "\n",
    "####**População**\n",
    "Jovens adultos fumantes\n",
    "\n",
    "####**Variáveis**\n",
    "\n",
    "*   Variável independente: Frequência de fumo **USFREQMO**, categórica com 6 níveis:\n",
    "\n",
    "1.   Fumar aprox.  1 dia por mês\n",
    "2.   Fumar aprox. 2,5 dias por mês\n",
    "3.   Fumar aprox.  5 dias por mês\n",
    "4.   Fumar aprox. 14 dias por mês\n",
    "5.   Fumar aprox. 22 dias por mês\n",
    "6.   Fumar aprox. 30 dias por mês\n",
    "\n",
    "\n",
    "*   Variável dependente: Dependência de nicotina **TAB12MDX** categórica com 2 níveis\n",
    "1.   Presença de dependência de nicotina nos últimos 12 meses\n",
    "2.   Ausência de dependência de nicotina nos últimos 12 meses\n",
    "\n",
    "\n",
    "\n",
    "####Hipótese\n",
    "\n",
    "**Hipótese Nula**\n",
    "\n",
    "> Não existe relação entre frequência de fumo e dependência de nicotina\n",
    "\n",
    "**Hipótese Alternativa**\n",
    "\n",
    "> Existe relação entre frequência de fumo e dependência de nicotina\n",
    "\n",
    "\n",
    "###Ao código!\n",
    "\n",
    "Passo 1. Importar as bibliotecas que serão utilizadas ao longo do código.\n",
    "\n",
    "  No nosso caso, importaremos a **pandas**, para lidar com dataframes; **numpy**, para funções matemáticas; **stats** para os modelos estatísticos; **seaborn** e **matplotlib** para gráficos."
   ]
  },
  {
   "cell_type": "code",
   "execution_count": 1,
   "metadata": {
    "id": "KXQI4PUFPxyK"
   },
   "outputs": [],
   "source": [
    "import matplotlib.pyplot as plt\n",
    "import pandas as pd\n",
    "import numpy as np\n",
    "from sklearn import preprocessing\n"
   ]
  },
  {
   "cell_type": "markdown",
   "metadata": {
    "id": "UyONC2QJQQEr"
   },
   "source": [
    "Passo 2. Carregando o nosso dataset (no nosso caso o NESARC)\n",
    "\n",
    "*O Colab não está carregando o dataset inteiro, por isso nossos exemplos estão ficando diferentes dos resultados rodados localmente.*"
   ]
  },
  {
   "cell_type": "code",
   "execution_count": 2,
   "metadata": {
    "colab": {
     "base_uri": "https://localhost:8080/"
    },
    "id": "ZWn-TpeiQMNc",
    "outputId": "62ef1dac-b176-4aef-e544-be2f4e13eb26"
   },
   "outputs": [
    {
     "ename": "FileNotFoundError",
     "evalue": "[Errno 2] No such file or directory: './nfldataset/Career_Stats_All_Stats.csv'",
     "output_type": "error",
     "traceback": [
      "\u001b[0;31m---------------------------------------------------------------------------\u001b[0m",
      "\u001b[0;31mFileNotFoundError\u001b[0m                         Traceback (most recent call last)",
      "Cell \u001b[0;32mIn[2], line 1\u001b[0m\n\u001b[0;32m----> 1\u001b[0m All_stats \u001b[38;5;241m=\u001b[39m pd\u001b[38;5;241m.\u001b[39mread_csv(\u001b[38;5;124m'\u001b[39m\u001b[38;5;124m./nfldataset/Career_Stats_All_Stats.csv\u001b[39m\u001b[38;5;124m'\u001b[39m)\n\u001b[1;32m      3\u001b[0m \u001b[38;5;28mprint\u001b[39m (All_stats\u001b[38;5;241m.\u001b[39mhead(\u001b[38;5;241m10\u001b[39m))\n\u001b[1;32m      4\u001b[0m \u001b[38;5;28mprint\u001b[39m (All_stats\u001b[38;5;241m.\u001b[39mcolumns)\n",
      "File \u001b[0;32m~/anaconda3/lib/python3.11/site-packages/pandas/io/parsers/readers.py:912\u001b[0m, in \u001b[0;36mread_csv\u001b[0;34m(filepath_or_buffer, sep, delimiter, header, names, index_col, usecols, dtype, engine, converters, true_values, false_values, skipinitialspace, skiprows, skipfooter, nrows, na_values, keep_default_na, na_filter, verbose, skip_blank_lines, parse_dates, infer_datetime_format, keep_date_col, date_parser, date_format, dayfirst, cache_dates, iterator, chunksize, compression, thousands, decimal, lineterminator, quotechar, quoting, doublequote, escapechar, comment, encoding, encoding_errors, dialect, on_bad_lines, delim_whitespace, low_memory, memory_map, float_precision, storage_options, dtype_backend)\u001b[0m\n\u001b[1;32m    899\u001b[0m kwds_defaults \u001b[38;5;241m=\u001b[39m _refine_defaults_read(\n\u001b[1;32m    900\u001b[0m     dialect,\n\u001b[1;32m    901\u001b[0m     delimiter,\n\u001b[0;32m   (...)\u001b[0m\n\u001b[1;32m    908\u001b[0m     dtype_backend\u001b[38;5;241m=\u001b[39mdtype_backend,\n\u001b[1;32m    909\u001b[0m )\n\u001b[1;32m    910\u001b[0m kwds\u001b[38;5;241m.\u001b[39mupdate(kwds_defaults)\n\u001b[0;32m--> 912\u001b[0m \u001b[38;5;28;01mreturn\u001b[39;00m _read(filepath_or_buffer, kwds)\n",
      "File \u001b[0;32m~/anaconda3/lib/python3.11/site-packages/pandas/io/parsers/readers.py:577\u001b[0m, in \u001b[0;36m_read\u001b[0;34m(filepath_or_buffer, kwds)\u001b[0m\n\u001b[1;32m    574\u001b[0m _validate_names(kwds\u001b[38;5;241m.\u001b[39mget(\u001b[38;5;124m\"\u001b[39m\u001b[38;5;124mnames\u001b[39m\u001b[38;5;124m\"\u001b[39m, \u001b[38;5;28;01mNone\u001b[39;00m))\n\u001b[1;32m    576\u001b[0m \u001b[38;5;66;03m# Create the parser.\u001b[39;00m\n\u001b[0;32m--> 577\u001b[0m parser \u001b[38;5;241m=\u001b[39m TextFileReader(filepath_or_buffer, \u001b[38;5;241m*\u001b[39m\u001b[38;5;241m*\u001b[39mkwds)\n\u001b[1;32m    579\u001b[0m \u001b[38;5;28;01mif\u001b[39;00m chunksize \u001b[38;5;129;01mor\u001b[39;00m iterator:\n\u001b[1;32m    580\u001b[0m     \u001b[38;5;28;01mreturn\u001b[39;00m parser\n",
      "File \u001b[0;32m~/anaconda3/lib/python3.11/site-packages/pandas/io/parsers/readers.py:1407\u001b[0m, in \u001b[0;36mTextFileReader.__init__\u001b[0;34m(self, f, engine, **kwds)\u001b[0m\n\u001b[1;32m   1404\u001b[0m     \u001b[38;5;28mself\u001b[39m\u001b[38;5;241m.\u001b[39moptions[\u001b[38;5;124m\"\u001b[39m\u001b[38;5;124mhas_index_names\u001b[39m\u001b[38;5;124m\"\u001b[39m] \u001b[38;5;241m=\u001b[39m kwds[\u001b[38;5;124m\"\u001b[39m\u001b[38;5;124mhas_index_names\u001b[39m\u001b[38;5;124m\"\u001b[39m]\n\u001b[1;32m   1406\u001b[0m \u001b[38;5;28mself\u001b[39m\u001b[38;5;241m.\u001b[39mhandles: IOHandles \u001b[38;5;241m|\u001b[39m \u001b[38;5;28;01mNone\u001b[39;00m \u001b[38;5;241m=\u001b[39m \u001b[38;5;28;01mNone\u001b[39;00m\n\u001b[0;32m-> 1407\u001b[0m \u001b[38;5;28mself\u001b[39m\u001b[38;5;241m.\u001b[39m_engine \u001b[38;5;241m=\u001b[39m \u001b[38;5;28mself\u001b[39m\u001b[38;5;241m.\u001b[39m_make_engine(f, \u001b[38;5;28mself\u001b[39m\u001b[38;5;241m.\u001b[39mengine)\n",
      "File \u001b[0;32m~/anaconda3/lib/python3.11/site-packages/pandas/io/parsers/readers.py:1661\u001b[0m, in \u001b[0;36mTextFileReader._make_engine\u001b[0;34m(self, f, engine)\u001b[0m\n\u001b[1;32m   1659\u001b[0m     \u001b[38;5;28;01mif\u001b[39;00m \u001b[38;5;124m\"\u001b[39m\u001b[38;5;124mb\u001b[39m\u001b[38;5;124m\"\u001b[39m \u001b[38;5;129;01mnot\u001b[39;00m \u001b[38;5;129;01min\u001b[39;00m mode:\n\u001b[1;32m   1660\u001b[0m         mode \u001b[38;5;241m+\u001b[39m\u001b[38;5;241m=\u001b[39m \u001b[38;5;124m\"\u001b[39m\u001b[38;5;124mb\u001b[39m\u001b[38;5;124m\"\u001b[39m\n\u001b[0;32m-> 1661\u001b[0m \u001b[38;5;28mself\u001b[39m\u001b[38;5;241m.\u001b[39mhandles \u001b[38;5;241m=\u001b[39m get_handle(\n\u001b[1;32m   1662\u001b[0m     f,\n\u001b[1;32m   1663\u001b[0m     mode,\n\u001b[1;32m   1664\u001b[0m     encoding\u001b[38;5;241m=\u001b[39m\u001b[38;5;28mself\u001b[39m\u001b[38;5;241m.\u001b[39moptions\u001b[38;5;241m.\u001b[39mget(\u001b[38;5;124m\"\u001b[39m\u001b[38;5;124mencoding\u001b[39m\u001b[38;5;124m\"\u001b[39m, \u001b[38;5;28;01mNone\u001b[39;00m),\n\u001b[1;32m   1665\u001b[0m     compression\u001b[38;5;241m=\u001b[39m\u001b[38;5;28mself\u001b[39m\u001b[38;5;241m.\u001b[39moptions\u001b[38;5;241m.\u001b[39mget(\u001b[38;5;124m\"\u001b[39m\u001b[38;5;124mcompression\u001b[39m\u001b[38;5;124m\"\u001b[39m, \u001b[38;5;28;01mNone\u001b[39;00m),\n\u001b[1;32m   1666\u001b[0m     memory_map\u001b[38;5;241m=\u001b[39m\u001b[38;5;28mself\u001b[39m\u001b[38;5;241m.\u001b[39moptions\u001b[38;5;241m.\u001b[39mget(\u001b[38;5;124m\"\u001b[39m\u001b[38;5;124mmemory_map\u001b[39m\u001b[38;5;124m\"\u001b[39m, \u001b[38;5;28;01mFalse\u001b[39;00m),\n\u001b[1;32m   1667\u001b[0m     is_text\u001b[38;5;241m=\u001b[39mis_text,\n\u001b[1;32m   1668\u001b[0m     errors\u001b[38;5;241m=\u001b[39m\u001b[38;5;28mself\u001b[39m\u001b[38;5;241m.\u001b[39moptions\u001b[38;5;241m.\u001b[39mget(\u001b[38;5;124m\"\u001b[39m\u001b[38;5;124mencoding_errors\u001b[39m\u001b[38;5;124m\"\u001b[39m, \u001b[38;5;124m\"\u001b[39m\u001b[38;5;124mstrict\u001b[39m\u001b[38;5;124m\"\u001b[39m),\n\u001b[1;32m   1669\u001b[0m     storage_options\u001b[38;5;241m=\u001b[39m\u001b[38;5;28mself\u001b[39m\u001b[38;5;241m.\u001b[39moptions\u001b[38;5;241m.\u001b[39mget(\u001b[38;5;124m\"\u001b[39m\u001b[38;5;124mstorage_options\u001b[39m\u001b[38;5;124m\"\u001b[39m, \u001b[38;5;28;01mNone\u001b[39;00m),\n\u001b[1;32m   1670\u001b[0m )\n\u001b[1;32m   1671\u001b[0m \u001b[38;5;28;01massert\u001b[39;00m \u001b[38;5;28mself\u001b[39m\u001b[38;5;241m.\u001b[39mhandles \u001b[38;5;129;01mis\u001b[39;00m \u001b[38;5;129;01mnot\u001b[39;00m \u001b[38;5;28;01mNone\u001b[39;00m\n\u001b[1;32m   1672\u001b[0m f \u001b[38;5;241m=\u001b[39m \u001b[38;5;28mself\u001b[39m\u001b[38;5;241m.\u001b[39mhandles\u001b[38;5;241m.\u001b[39mhandle\n",
      "File \u001b[0;32m~/anaconda3/lib/python3.11/site-packages/pandas/io/common.py:859\u001b[0m, in \u001b[0;36mget_handle\u001b[0;34m(path_or_buf, mode, encoding, compression, memory_map, is_text, errors, storage_options)\u001b[0m\n\u001b[1;32m    854\u001b[0m \u001b[38;5;28;01melif\u001b[39;00m \u001b[38;5;28misinstance\u001b[39m(handle, \u001b[38;5;28mstr\u001b[39m):\n\u001b[1;32m    855\u001b[0m     \u001b[38;5;66;03m# Check whether the filename is to be opened in binary mode.\u001b[39;00m\n\u001b[1;32m    856\u001b[0m     \u001b[38;5;66;03m# Binary mode does not support 'encoding' and 'newline'.\u001b[39;00m\n\u001b[1;32m    857\u001b[0m     \u001b[38;5;28;01mif\u001b[39;00m ioargs\u001b[38;5;241m.\u001b[39mencoding \u001b[38;5;129;01mand\u001b[39;00m \u001b[38;5;124m\"\u001b[39m\u001b[38;5;124mb\u001b[39m\u001b[38;5;124m\"\u001b[39m \u001b[38;5;129;01mnot\u001b[39;00m \u001b[38;5;129;01min\u001b[39;00m ioargs\u001b[38;5;241m.\u001b[39mmode:\n\u001b[1;32m    858\u001b[0m         \u001b[38;5;66;03m# Encoding\u001b[39;00m\n\u001b[0;32m--> 859\u001b[0m         handle \u001b[38;5;241m=\u001b[39m \u001b[38;5;28mopen\u001b[39m(\n\u001b[1;32m    860\u001b[0m             handle,\n\u001b[1;32m    861\u001b[0m             ioargs\u001b[38;5;241m.\u001b[39mmode,\n\u001b[1;32m    862\u001b[0m             encoding\u001b[38;5;241m=\u001b[39mioargs\u001b[38;5;241m.\u001b[39mencoding,\n\u001b[1;32m    863\u001b[0m             errors\u001b[38;5;241m=\u001b[39merrors,\n\u001b[1;32m    864\u001b[0m             newline\u001b[38;5;241m=\u001b[39m\u001b[38;5;124m\"\u001b[39m\u001b[38;5;124m\"\u001b[39m,\n\u001b[1;32m    865\u001b[0m         )\n\u001b[1;32m    866\u001b[0m     \u001b[38;5;28;01melse\u001b[39;00m:\n\u001b[1;32m    867\u001b[0m         \u001b[38;5;66;03m# Binary mode\u001b[39;00m\n\u001b[1;32m    868\u001b[0m         handle \u001b[38;5;241m=\u001b[39m \u001b[38;5;28mopen\u001b[39m(handle, ioargs\u001b[38;5;241m.\u001b[39mmode)\n",
      "\u001b[0;31mFileNotFoundError\u001b[0m: [Errno 2] No such file or directory: './nfldataset/Career_Stats_All_Stats.csv'"
     ]
    }
   ],
   "source": [
    "All_stats = pd.read_csv('./nfldataset/Career_Stats_All_Stats.csv')\n",
    "\n",
    "print (All_stats.head(10))\n",
    "print (All_stats.columns)"
   ]
  },
  {
   "cell_type": "markdown",
   "metadata": {
    "id": "zBEy6XKCQjS3"
   },
   "source": [
    "Passo 3. Convertendo dados brutos para tipos numéricos"
   ]
  },
  {
   "cell_type": "code",
   "execution_count": 3,
   "metadata": {
    "id": "vYb01ET3QuJN"
   },
   "outputs": [],
   "source": [
    "data['TAB12MDX'] = pandas.to_numeric(data['TAB12MDX'], errors='coerce')\n",
    "data['CHECK321'] = pandas.to_numeric(data['CHECK321'], errors='coerce')\n",
    "data['S3AQ3B1'] = pandas.to_numeric(data['S3AQ3B1'], errors='coerce')\n",
    "data['S3AQ3C1'] = pandas.to_numeric(data['S3AQ3C1'], errors='coerce')\n",
    "data['AGE'] = pandas.to_numeric(data['AGE'], errors='coerce')\n"
   ]
  },
  {
   "cell_type": "markdown",
   "metadata": {
    "id": "mlstXPTnQw55"
   },
   "source": [
    "Passo 4. Selecionando a população do estudo - Jovens entre 18 e 25 anos e que tenham fumado nos últimos 12 meses (variável CHECK321)"
   ]
  },
  {
   "cell_type": "code",
   "execution_count": 4,
   "metadata": {
    "id": "PSSfxfsgQ_T-"
   },
   "outputs": [],
   "source": [
    "sub1=data[(data['AGE']>=18) & (data['AGE']<=25) & (data['CHECK321']==1)]"
   ]
  },
  {
   "cell_type": "markdown",
   "metadata": {
    "id": "RsGR3wjsRIL7"
   },
   "source": [
    "Passo 5. Fazer um clone do subconjunto para evitar problemas..."
   ]
  },
  {
   "cell_type": "code",
   "execution_count": 5,
   "metadata": {
    "id": "HXjWGda5RQGr"
   },
   "outputs": [],
   "source": [
    "sub2 = sub1.copy()"
   ]
  },
  {
   "cell_type": "markdown",
   "metadata": {
    "id": "h-dZcKFXRSSb"
   },
   "source": [
    "Passo 6. Hora de tratar os valores ausentes"
   ]
  },
  {
   "cell_type": "code",
   "execution_count": 6,
   "metadata": {
    "id": "UC-bBk4HRZ9Q"
   },
   "outputs": [],
   "source": [
    "# recode missing values to python missing (NaN)\n",
    "sub2['S3AQ3B1']=sub2['S3AQ3B1'].replace(9, numpy.nan)\n",
    "sub2['S3AQ3C1']=sub2['S3AQ3C1'].replace(99, numpy.nan)"
   ]
  },
  {
   "cell_type": "markdown",
   "metadata": {
    "id": "AB7mXJmXRc0J"
   },
   "source": [
    "Passo 7. Categorizando as frequências de fumos; criando a variável USFREQMO"
   ]
  },
  {
   "cell_type": "code",
   "execution_count": 7,
   "metadata": {
    "id": "UhWoVjO0RlE1"
   },
   "outputs": [],
   "source": [
    "recode1 = {1: 30, 2: 22, 3: 14, 4: 6, 5: 2.5, 6: 1}\n",
    "sub2['USFREQMO']= sub2['S3AQ3B1'].map(recode1)\n"
   ]
  },
  {
   "cell_type": "markdown",
   "metadata": {
    "id": "vlZfwbBBRo2r"
   },
   "source": [
    "Passo 8. Vamos dar uma conferida nos dados? Tabela de valores observados."
   ]
  },
  {
   "cell_type": "code",
   "execution_count": 8,
   "metadata": {
    "colab": {
     "base_uri": "https://localhost:8080/"
    },
    "id": "diDFhuBvRtfm",
    "outputId": "9a5c0c6c-49e1-44b0-c8fd-0e29465ef060"
   },
   "outputs": [
    {
     "name": "stdout",
     "output_type": "stream",
     "text": [
      "USFREQMO  1.0   2.5   6.0   14.0  22.0  30.0\n",
      "TAB12MDX                                    \n",
      "0           64    53    69    59    41   521\n",
      "1            7    12    19    32    27   799\n",
      "USFREQMO      1.0       2.5       6.0       14.0      22.0      30.0\n",
      "TAB12MDX                                                            \n",
      "0         0.901408  0.815385  0.784091  0.648352  0.602941  0.394697\n",
      "1         0.098592  0.184615  0.215909  0.351648  0.397059  0.605303\n"
     ]
    }
   ],
   "source": [
    "ct1=pandas.crosstab(sub2['TAB12MDX'], sub2['USFREQMO'])\n",
    "print (ct1)\n",
    "\n",
    "# coluna de percentagens\n",
    "# soma todos os valores por coluna (axis=0)\n",
    "colsum=ct1.sum(axis=0)\n",
    "# valor da categoria/total\n",
    "colpct=ct1/colsum\n",
    "print(colpct)\n"
   ]
  },
  {
   "cell_type": "markdown",
   "metadata": {
    "id": "XFIu8NHRR6ir"
   },
   "source": [
    "Passo 9. Aplicando Qui-quadrado"
   ]
  },
  {
   "cell_type": "code",
   "execution_count": 9,
   "metadata": {
    "colab": {
     "base_uri": "https://localhost:8080/"
    },
    "id": "qAY3_lZYR-mD",
    "outputId": "96ede75d-f4a5-4e4d-a49f-aaf9309a0682"
   },
   "outputs": [
    {
     "name": "stdout",
     "output_type": "stream",
     "text": [
      "Valor de Qui-quadrado, Valor p, valores esperados\n",
      "(165.27320708055845, 7.436364208390599e-34, 5, array([[ 33.64474457,  30.80152672,  41.70052848,  43.1221374 ,\n",
      "         32.22313564, 625.50792719],\n",
      "       [ 37.35525543,  34.19847328,  46.29947152,  47.8778626 ,\n",
      "         35.77686436, 694.49207281]]))\n"
     ]
    }
   ],
   "source": [
    "print ('Valor de Qui-quadrado, Valor p, valores esperados')\n",
    "cs1= scipy.stats.chi2_contingency(ct1)\n",
    "print (cs1)\n"
   ]
  },
  {
   "cell_type": "markdown",
   "metadata": {
    "id": "r6ihO5CRV03_"
   },
   "source": [
    "Podemos refutar a Hipótese Nula!\n",
    "\n",
    "p < 5%\n",
    "\n",
    "\n",
    "Agora precisamos analisar a influência da frequência de fumo no vício de nicotina. Para isto, devemos verificar os percentuais do grupo que manifestou dependência (TAB12MDX = 1)\n",
    "\n",
    "Passo 10. Configurando as variáveis de interesse"
   ]
  },
  {
   "cell_type": "code",
   "execution_count": 10,
   "metadata": {
    "id": "UUYy3Jfubp5x"
   },
   "outputs": [],
   "source": [
    "# USFREQMO passa a ser uma variável do tipo categórica \n",
    "sub2[\"USFREQMO\"] = sub2[\"USFREQMO\"].astype('category')\n",
    "# new code for setting variables to numeric:\n",
    "sub2['TAB12MDX'] = pandas.to_numeric(sub2['TAB12MDX'], errors='coerce')\n"
   ]
  },
  {
   "cell_type": "markdown",
   "metadata": {
    "id": "om9vdjHKb59A"
   },
   "source": [
    "Plotando os valores encontrados com o Seaborn:"
   ]
  },
  {
   "cell_type": "code",
   "execution_count": 11,
   "metadata": {
    "colab": {
     "base_uri": "https://localhost:8080/",
     "height": 519
    },
    "id": "DPP5tkHYb-hn",
    "outputId": "cfb9c175-27cc-44ac-c803-02c6897b4d68"
   },
   "outputs": [
    {
     "name": "stderr",
     "output_type": "stream",
     "text": [
      "/opt/anaconda3/lib/python3.7/site-packages/pandas/io/formats/format.py:1403: FutureWarning: Index.ravel returning ndarray is deprecated; in a future version this will return a view on self.\n",
      "  for val, m in zip(values.ravel(), mask.ravel())\n",
      "/opt/anaconda3/lib/python3.7/site-packages/pandas/io/formats/format.py:1403: FutureWarning: Index.ravel returning ndarray is deprecated; in a future version this will return a view on self.\n",
      "  for val, m in zip(values.ravel(), mask.ravel())\n"
     ]
    },
    {
     "data": {
      "text/plain": [
       "Text(6.799999999999997, 0.5, 'Proporção de Dependência de Nicotina')"
      ]
     },
     "execution_count": 11,
     "metadata": {},
     "output_type": "execute_result"
    },
    {
     "data": {
      "image/png": "[encoded data removed]",
      "text/plain": [
       "<Figure size 360x360 with 1 Axes>"
      ]
     },
     "metadata": {
      "needs_background": "light"
     },
     "output_type": "display_data"
    }
   ],
   "source": [
    "seaborn.catplot(x=\"USFREQMO\", y=\"TAB12MDX\", data=sub2, kind=\"bar\", ci=None) #factorplot\n",
    "plt.xlabel('Dias fumandos por mês')\n",
    "plt.ylabel('Proporção de Dependência de Nicotina')\n"
   ]
  },
  {
   "cell_type": "markdown",
   "metadata": {
    "id": "XAkxW6KKcie_"
   },
   "source": [
    "Nem todas as faixas tem a mesma distinção de valores. \n",
    "\n",
    "**Para quais valores existem correlações claras?**\n",
    "\n",
    "##*Post Hoc* Test com qui-quadrado\n",
    "\n",
    "Criando grupos novos para escolher apenas dois grupos de frequência por vez.\n",
    "\n",
    "###Grupos 1 e 2"
   ]
  },
  {
   "cell_type": "code",
   "execution_count": 12,
   "metadata": {
    "colab": {
     "base_uri": "https://localhost:8080/"
    },
    "id": "t6XPbYOprTka",
    "outputId": "bebb65aa-453b-4a7d-8094-94d427fecf10"
   },
   "outputs": [
    {
     "name": "stdout",
     "output_type": "stream",
     "text": [
      "COMP1v2   1.0  2.5\n",
      "TAB12MDX          \n",
      "0          64   53\n",
      "1           7   12\n",
      "COMP1v2        1.0       2.5\n",
      "TAB12MDX                    \n",
      "0         0.901408  0.815385\n",
      "1         0.098592  0.184615\n",
      "Valor de Qui-quadrado, Valor p, Valores esperados\n",
      "(1.4348930637007287, 0.2309675448977717, 1, array([[61.08088235, 55.91911765],\n",
      "       [ 9.91911765,  9.08088235]]))\n"
     ]
    }
   ],
   "source": [
    "recode2 = {1: 1, 2.5: 2.5}\n",
    "sub2['COMP1v2']= sub2['USFREQMO'].map(recode2)\n",
    "\n",
    "# pegando apenas as frequencias de 1 e 2\n",
    "ct2=pandas.crosstab(sub2['TAB12MDX'], sub2['COMP1v2'])\n",
    "print (ct2)\n",
    "\n",
    "# percentuais por colunas\n",
    "colsum=ct2.sum(axis=0)\n",
    "colpct=ct2/colsum\n",
    "print(colpct)\n",
    "\n",
    "print ('Valor de Qui-quadrado, Valor p, Valores esperados')\n",
    "cs2= scipy.stats.chi2_contingency(ct2)\n",
    "print (cs2)"
   ]
  },
  {
   "cell_type": "markdown",
   "metadata": {
    "id": "-fEU2jCPro1L"
   },
   "source": [
    "Grupos 1 e 3"
   ]
  },
  {
   "cell_type": "code",
   "execution_count": 13,
   "metadata": {
    "colab": {
     "base_uri": "https://localhost:8080/"
    },
    "id": "oTK3KSbYrN2y",
    "outputId": "cef6a26c-fa1f-4d05-881d-9034352d2a5a"
   },
   "outputs": [
    {
     "name": "stdout",
     "output_type": "stream",
     "text": [
      "COMP1v6   1.0  6.0\n",
      "TAB12MDX          \n",
      "0          64   69\n",
      "1           7   19\n",
      "COMP1v6        1.0       6.0\n",
      "TAB12MDX                    \n",
      "0         0.901408  0.784091\n",
      "1         0.098592  0.215909\n",
      "Valor de Qui-quadrado, Valor p, Valores esperados\n",
      "(3.142840191220936, 0.07626090198286821, 1, array([[59.38993711, 73.61006289],\n",
      "       [11.61006289, 14.38993711]]))\n"
     ]
    }
   ],
   "source": [
    "recode3 = {1: 1, 6: 6}\n",
    "sub2['COMP1v6']= sub2['USFREQMO'].map(recode3)\n",
    "\n",
    "# pegando apenas as frequencias de 1 e 3\n",
    "ct3=pandas.crosstab(sub2['TAB12MDX'], sub2['COMP1v6'])\n",
    "print (ct3)\n",
    "\n",
    "# percentuais por coluna\n",
    "colsum=ct3.sum(axis=0)\n",
    "colpct=ct3/colsum\n",
    "print(colpct)\n",
    "\n",
    "print ('Valor de Qui-quadrado, Valor p, Valores esperados')\n",
    "cs3= scipy.stats.chi2_contingency(ct3)\n",
    "print (cs3)"
   ]
  },
  {
   "cell_type": "markdown",
   "metadata": {
    "id": "tC9D2xK7rzA0"
   },
   "source": [
    "Grupos 1 e 4"
   ]
  },
  {
   "cell_type": "code",
   "execution_count": 27,
   "metadata": {
    "colab": {
     "base_uri": "https://localhost:8080/"
    },
    "id": "LCDDrRCIr4i5",
    "outputId": "5ee9b904-7506-4e15-e638-a15508c9d427"
   },
   "outputs": [
    {
     "name": "stdout",
     "output_type": "stream",
     "text": [
      "COMP1v14  1.0   14.0\n",
      "TAB12MDX            \n",
      "0           64    59\n",
      "1            7    32\n",
      "COMP1v14      1.0       14.0\n",
      "TAB12MDX                    \n",
      "0         0.901408  0.648352\n",
      "1         0.098592  0.351648\n",
      "Valor de Qui-quadrado, Valor p, Valores esperados\n",
      "(12.622564075461572, 0.00038111819882681824, 1, array([[53.90740741, 69.09259259],\n",
      "       [17.09259259, 21.90740741]]))\n"
     ]
    }
   ],
   "source": [
    "recode4 = {1: 1, 14: 14}\n",
    "sub2['COMP1v14']= sub2['USFREQMO'].map(recode4)\n",
    "\n",
    "# pegando apenas as frequencias de 1 e 4\n",
    "ct4=pandas.crosstab(sub2['TAB12MDX'], sub2['COMP1v14'])\n",
    "print (ct4)\n",
    "\n",
    "# percentuais por coluna\n",
    "colsum=ct4.sum(axis=0)\n",
    "colpct=ct4/colsum\n",
    "print(colpct)\n",
    "\n",
    "print ('Valor de Qui-quadrado, Valor p, Valores esperados')\n",
    "cs4= scipy.stats.chi2_contingency(ct4)\n",
    "print (cs4)"
   ]
  },
  {
   "cell_type": "markdown",
   "metadata": {
    "id": "sUVViQydr_02"
   },
   "source": [
    "Grupos 1 e 5"
   ]
  },
  {
   "cell_type": "code",
   "execution_count": 28,
   "metadata": {
    "colab": {
     "base_uri": "https://localhost:8080/"
    },
    "id": "hvU2IAvTsB1E",
    "outputId": "2fa768fc-7e55-4d69-8a21-e6b728995b68"
   },
   "outputs": [
    {
     "name": "stdout",
     "output_type": "stream",
     "text": [
      "COMP1v22  1.0   22.0\n",
      "TAB12MDX            \n",
      "0           64    41\n",
      "1            7    27\n",
      "COMP1v22      1.0       22.0\n",
      "TAB12MDX                    \n",
      "0         0.901408  0.602941\n",
      "1         0.098592  0.397059\n",
      "Valor de Qui-quadrado, Valor p, Valores esperados\n",
      "(15.169488833230059, 9.827865291318501e-05, 1, array([[53.63309353, 51.36690647],\n",
      "       [17.36690647, 16.63309353]]))\n"
     ]
    }
   ],
   "source": [
    "recode5 = {1: 1, 22: 22}\n",
    "sub2['COMP1v22']= sub2['USFREQMO'].map(recode5)\n",
    "\n",
    "# pegando apenas as frequencias de 1 e 5\n",
    "ct5=pandas.crosstab(sub2['TAB12MDX'], sub2['COMP1v22'])\n",
    "print (ct5)\n",
    "\n",
    "# percentuais por coluna\n",
    "colsum=ct5.sum(axis=0)\n",
    "colpct=ct5/colsum\n",
    "print(colpct)\n",
    "\n",
    "print ('Valor de Qui-quadrado, Valor p, Valores esperados')\n",
    "cs5= scipy.stats.chi2_contingency(ct5)\n",
    "print (cs5)\n"
   ]
  },
  {
   "cell_type": "markdown",
   "metadata": {
    "id": "Ukqa3yIUsKEd"
   },
   "source": [
    "Grupos 1 e 6"
   ]
  },
  {
   "cell_type": "code",
   "execution_count": 29,
   "metadata": {
    "colab": {
     "base_uri": "https://localhost:8080/"
    },
    "id": "gIHpV97WsPig",
    "outputId": "bd1b0c46-4aac-46bd-8206-d62332e0b9f5"
   },
   "outputs": [
    {
     "name": "stdout",
     "output_type": "stream",
     "text": [
      "COMP1v30  1.0   30.0\n",
      "TAB12MDX            \n",
      "0           64   521\n",
      "1            7   799\n",
      "COMP1v30      1.0       30.0\n",
      "TAB12MDX                    \n",
      "0         0.901408  0.394697\n",
      "1         0.098592  0.605303\n",
      "Valor de Qui-quadrado, Valor p, Valores esperados\n",
      "(68.92471874488487, 1.0229460827061155e-16, 1, array([[ 29.85981308, 555.14018692],\n",
      "       [ 41.14018692, 764.85981308]]))\n"
     ]
    }
   ],
   "source": [
    "recode6 = {1: 1, 30: 30}\n",
    "sub2['COMP1v30']= sub2['USFREQMO'].map(recode6)\n",
    "\n",
    "# pegando apenas as frequencias de 1 e 5\n",
    "ct6=pandas.crosstab(sub2['TAB12MDX'], sub2['COMP1v30'])\n",
    "print (ct6)\n",
    "\n",
    "# percentuais por coluna\n",
    "colsum=ct6.sum(axis=0)\n",
    "colpct=ct6/colsum\n",
    "print(colpct)\n",
    "\n",
    "print ('Valor de Qui-quadrado, Valor p, Valores esperados')\n",
    "cs6= scipy.stats.chi2_contingency(ct6)\n",
    "print (cs6)"
   ]
  },
  {
   "cell_type": "markdown",
   "metadata": {
    "id": "9XIp3rpEsWQI"
   },
   "source": [
    "Grupos 2 e 3"
   ]
  },
  {
   "cell_type": "code",
   "execution_count": 19,
   "metadata": {
    "colab": {
     "base_uri": "https://localhost:8080/"
    },
    "id": "6N7r79RssX8M",
    "outputId": "ebb07c0c-25ad-47fb-f9e8-af7e3849eb5a"
   },
   "outputs": [
    {
     "name": "stdout",
     "output_type": "stream",
     "text": [
      "COMP2v6   2.5  6.0\n",
      "TAB12MDX          \n",
      "0          53   69\n",
      "1          12   19\n",
      "COMP2v6        2.5       6.0\n",
      "TAB12MDX                    \n",
      "0         0.815385  0.784091\n",
      "1         0.184615  0.215909\n",
      "Valor de Qui-quadrado, Valor p, Valores esperados\n",
      "(0.07430561076945266, 0.7851679729700605, 1, array([[51.83006536, 70.16993464],\n",
      "       [13.16993464, 17.83006536]]))\n"
     ]
    }
   ],
   "source": [
    "recode7 = {2.5: 2.5, 6: 6}\n",
    "sub2['COMP2v6']= sub2['USFREQMO'].map(recode7)\n",
    "\n",
    "# pegando apenas as frequencias de 2 e 3\n",
    "ct7=pandas.crosstab(sub2['TAB12MDX'], sub2['COMP2v6'])\n",
    "print (ct7)\n",
    "\n",
    "# percentuais por coluna\n",
    "colsum=ct7.sum(axis=0)\n",
    "colpct=ct7/colsum\n",
    "print(colpct)\n",
    "\n",
    "print ('Valor de Qui-quadrado, Valor p, Valores esperados')\n",
    "cs7=scipy.stats.chi2_contingency(ct7)\n",
    "print (cs7)"
   ]
  },
  {
   "cell_type": "markdown",
   "metadata": {},
   "source": [
    "Grupos 2 e 4"
   ]
  },
  {
   "cell_type": "code",
   "execution_count": 21,
   "metadata": {},
   "outputs": [
    {
     "name": "stdout",
     "output_type": "stream",
     "text": [
      "COMP2v6   2.5   14.0\n",
      "TAB12MDX            \n",
      "0           53    59\n",
      "1           12    32\n",
      "COMP2v6       2.5       14.0\n",
      "TAB12MDX                    \n",
      "0         0.815385  0.648352\n",
      "1         0.184615  0.351648\n",
      "Valor de Qui-quadrado, Valor p, Valores esperados\n",
      "(4.431818181818181, 0.03527491197129336, 1, array([[46.66666667, 65.33333333],\n",
      "       [18.33333333, 25.66666667]]))\n"
     ]
    }
   ],
   "source": [
    "recode8 = {2.5: 2.5, 14: 14}\n",
    "sub2['COMP2v14']= sub2['USFREQMO'].map(recode8)\n",
    "\n",
    "# pegando apenas as frequencias de 2 e 4\n",
    "ct8=pandas.crosstab(sub2['TAB12MDX'], sub2['COMP2v14'])\n",
    "print (ct8)\n",
    "\n",
    "# percentuais por coluna\n",
    "colsum=ct8.sum(axis=0)\n",
    "colpct=ct8/colsum\n",
    "print(colpct)\n",
    "\n",
    "print ('Valor de Qui-quadrado, Valor p, Valores esperados')\n",
    "cs8=scipy.stats.chi2_contingency(ct8)\n",
    "print (cs8)"
   ]
  },
  {
   "cell_type": "markdown",
   "metadata": {},
   "source": [
    "Grupos 2 e 5"
   ]
  },
  {
   "cell_type": "code",
   "execution_count": 22,
   "metadata": {},
   "outputs": [
    {
     "name": "stdout",
     "output_type": "stream",
     "text": [
      "COMP2v6   2.5   22.0\n",
      "TAB12MDX            \n",
      "0           53    41\n",
      "1           12    27\n",
      "COMP2v6       2.5       22.0\n",
      "TAB12MDX                    \n",
      "0         0.815385  0.602941\n",
      "1         0.184615  0.397059\n",
      "Valor de Qui-quadrado, Valor p, Valores esperados\n",
      "(6.248385015909925, 0.012430659126995465, 1, array([[45.93984962, 48.06015038],\n",
      "       [19.06015038, 19.93984962]]))\n"
     ]
    }
   ],
   "source": [
    "recode9 = {2.5: 2.5, 22: 22}\n",
    "sub2['COMP2v22']= sub2['USFREQMO'].map(recode9)\n",
    "\n",
    "# pegando apenas as frequencias de 2 e 5\n",
    "ct9=pandas.crosstab(sub2['TAB12MDX'], sub2['COMP2v22'])\n",
    "print (ct9)\n",
    "\n",
    "# percentuais por coluna\n",
    "colsum=ct9.sum(axis=0)\n",
    "colpct=ct9/colsum\n",
    "print(colpct)\n",
    "\n",
    "print ('Valor de Qui-quadrado, Valor p, Valores esperados')\n",
    "cs9=scipy.stats.chi2_contingency(ct9)\n",
    "print (cs9)"
   ]
  },
  {
   "cell_type": "markdown",
   "metadata": {},
   "source": [
    "Grupos 2 e 6"
   ]
  },
  {
   "cell_type": "code",
   "execution_count": null,
   "metadata": {},
   "outputs": [],
   "source": [
    "recode10 = {2.5: 2.5, 30: 30}\n",
    "sub2['COMP2v30']= sub2['USFREQMO'].map(recode9)\n",
    "\n",
    "# pegando apenas as frequencias de 2 e 6\n",
    "ct10=pandas.crosstab(sub2['TAB12MDX'], sub2['COMP2v30'])\n",
    "print (ct10)\n",
    "\n",
    "# percentuais por coluna\n",
    "colsum=ct10.sum(axis=0)\n",
    "colpct=ct10/colsum\n",
    "print(colpct)\n",
    "\n",
    "print ('Valor de Qui-quadrado, Valor p, Valores esperados')\n",
    "cs10=scipy.stats.chi2_contingency(ct10)\n",
    "print (cs10)"
   ]
  },
  {
   "cell_type": "markdown",
   "metadata": {},
   "source": [
    "Grupos 3 e 4"
   ]
  },
  {
   "cell_type": "code",
   "execution_count": null,
   "metadata": {},
   "outputs": [],
   "source": [
    "recode11 = {6: 6, 14: 14}\n",
    "sub2['COMP3v14']= sub2['USFREQMO'].map(recode11)\n",
    "\n",
    "# pegando apenas as frequencias de 3 e 4\n",
    "ct11=pandas.crosstab(sub2['TAB12MDX'], sub2['COMP3v14'])\n",
    "print (ct11)\n",
    "\n",
    "# percentuais por coluna\n",
    "colsum=ct11.sum(axis=0)\n",
    "colpct=ct11/colsum\n",
    "print(colpct)\n",
    "\n",
    "print ('Valor de Qui-quadrado, Valor p, Valores esperados')\n",
    "cs11=scipy.stats.chi2_contingency(ct11)\n",
    "print (cs11)"
   ]
  },
  {
   "cell_type": "markdown",
   "metadata": {},
   "source": [
    "Grupos 3 e 5"
   ]
  },
  {
   "cell_type": "code",
   "execution_count": null,
   "metadata": {},
   "outputs": [],
   "source": [
    "recode12 = {6: 6, 22: 22}\n",
    "sub2['COMP3v22']= sub2['USFREQMO'].map(recode12)\n",
    "\n",
    "# pegando apenas as frequencias de 3 e 5\n",
    "ct12=pandas.crosstab(sub2['TAB12MDX'], sub2['COMP3v22'])\n",
    "print (ct12)\n",
    "\n",
    "# percentuais por coluna\n",
    "colsum=ct12.sum(axis=0)\n",
    "colpct=ct12/colsum\n",
    "print(colpct)\n",
    "\n",
    "print ('Valor de Qui-quadrado, Valor p, Valores esperados')\n",
    "cs11=scipy.stats.chi2_contingency(ct12)\n",
    "print (cs12)"
   ]
  },
  {
   "cell_type": "markdown",
   "metadata": {},
   "source": [
    "Grupos 3 e 6"
   ]
  },
  {
   "cell_type": "code",
   "execution_count": null,
   "metadata": {},
   "outputs": [],
   "source": [
    "recode13 = {6: 6, 30: 30}\n",
    "sub2['COMP3v30']= sub2['USFREQMO'].map(recode13)\n",
    "\n",
    "# pegando apenas as frequencias de 3 e 6\n",
    "ct13=pandas.crosstab(sub2['TAB12MDX'], sub2['COMP3v30'])\n",
    "print (ct13)\n",
    "\n",
    "# percentuais por coluna\n",
    "colsum=ct13.sum(axis=0)\n",
    "colpct=ct13/colsum\n",
    "print(colpct)\n",
    "\n",
    "print ('Valor de Qui-quadrado, Valor p, Valores esperados')\n",
    "cs11=scipy.stats.chi2_contingency(ct13)\n",
    "print (cs13)"
   ]
  },
  {
   "cell_type": "markdown",
   "metadata": {},
   "source": [
    "Grupos 4 e 5"
   ]
  },
  {
   "cell_type": "code",
   "execution_count": null,
   "metadata": {},
   "outputs": [],
   "source": [
    "recode14 = {14: 14, 22: 22}\n",
    "sub2['COMP4v22']= sub2['USFREQMO'].map(recode14)\n",
    "\n",
    "# pegando apenas as frequencias de 4 e 5\n",
    "ct14=pandas.crosstab(sub2['TAB12MDX'], sub2['COMP4v22'])\n",
    "print (ct14)\n",
    "\n",
    "# percentuais por coluna\n",
    "colsum=ct14.sum(axis=0)\n",
    "colpct=ct14/colsum\n",
    "print(colpct)\n",
    "\n",
    "print ('Valor de Qui-quadrado, Valor p, Valores esperados')\n",
    "cs11=scipy.stats.chi2_contingency(ct14)\n",
    "print (cs14)"
   ]
  },
  {
   "cell_type": "markdown",
   "metadata": {},
   "source": [
    "Grupos 4 e 6"
   ]
  },
  {
   "cell_type": "code",
   "execution_count": null,
   "metadata": {},
   "outputs": [],
   "source": [
    "recode15 = {14: 14, 30: 30}\n",
    "sub2['COMP4v30']= sub2['USFREQMO'].map(recode15)\n",
    "\n",
    "# pegando apenas as frequencias de 3 e 6\n",
    "ct15=pandas.crosstab(sub2['TAB12MDX'], sub2['COMP4v30'])\n",
    "print (ct15)\n",
    "\n",
    "# percentuais por coluna\n",
    "colsum=ct15.sum(axis=0)\n",
    "colpct=ct15/colsum\n",
    "print(colpct)\n",
    "\n",
    "print ('Valor de Qui-quadrado, Valor p, Valores esperados')\n",
    "cs11=scipy.stats.chi2_contingency(ct15)\n",
    "print (cs15)"
   ]
  },
  {
   "cell_type": "markdown",
   "metadata": {},
   "source": [
    "Grupos 5 e 6"
   ]
  },
  {
   "cell_type": "code",
   "execution_count": null,
   "metadata": {},
   "outputs": [],
   "source": [
    "recode16 = {22: 22, 30: 30}\n",
    "sub2['COMP5v30']= sub2['USFREQMO'].map(recode16)\n",
    "\n",
    "# pegando apenas as frequencias de 5 e 6\n",
    "ct16=pandas.crosstab(sub2['TAB12MDX'], sub2['COMP5v30'])\n",
    "print (ct16)\n",
    "\n",
    "# percentuais por coluna\n",
    "colsum=ct16.sum(axis=0)\n",
    "colpct=ct16/colsum\n",
    "print(colpct)\n",
    "\n",
    "print ('Valor de Qui-quadrado, Valor p, Valores esperados')\n",
    "cs11=scipy.stats.chi2_contingency(ct16)\n",
    "print (cs16)"
   ]
  },
  {
   "cell_type": "markdown",
   "metadata": {
    "id": "EwK5swauunIR"
   },
   "source": [
    "No código abaixo, verifico se pessoas que presenciaram algum tipo de violência na infância tiveram algum tipo de prejuízo na educação (deixaram a escola)"
   ]
  },
  {
   "cell_type": "code",
   "execution_count": null,
   "metadata": {
    "id": "jXPScAefTqKE"
   },
   "outputs": [],
   "source": [
    "data = pandas.read_csv('addhealth.csv', low_memory=False)\n",
    "\n",
    "# new code setting variables you will be working with to numeric\n",
    "data['H1GI21'] = pandas.to_numeric(data['H1GI21'], errors='coerce')\n",
    "data['H1FV1'] = pandas.to_numeric(data['H1FV1'], errors='coerce')\n",
    "\n",
    "\n",
    "#subset data to young adults who left the school before graduate\n",
    "sub1=data[(data['H1GI21']==97) & (data['H1GI21']==4)]\n",
    "\n",
    "#make a copy of my new subsetted data\n",
    "sub2 = data.copy()\n",
    "\n",
    "# recode missing values to python missing (NaN)\n",
    "sub2['H1GI21']=sub2['H1GI21'].replace(4, numpy.nan)\n",
    "sub2['H1GI21']=sub2['H1GI21'].replace(6, numpy.nan)\n",
    "sub2['H1GI21']=sub2['H1GI21'].replace(96, numpy.nan)\n",
    "sub2['H1GI21']=sub2['H1GI21'].replace(97, numpy.nan)\n",
    "sub2['H1GI21']=sub2['H1GI21'].replace(98, numpy.nan)\n",
    "\n",
    "sub2['H1FV1']=sub2['H1FV1'].replace(6, numpy.nan)\n",
    "sub2['H1FV1']=sub2['H1FV1'].replace(8, numpy.nan)\n",
    "sub2['H1FV1']=sub2['H1FV1'].replace(9, numpy.nan)\n",
    "\n",
    "\n",
    "#recoding values for H1FV1 into a new variable, GROUPWITVIOLENCE\n",
    "# 1 - never presence violence; 2: presence once; 3: presence more than once\n",
    "recode1 = {0: 0, 1: 1, 2: 2}\n",
    "sub2['GROUPWITVIOLENCE']= sub2['H1FV1'].map(recode1)\n",
    "\n",
    "# contingency table of observed counts\n",
    "ct1=pandas.crosstab(sub2['H1GI21'], sub2['GROUPWITVIOLENCE'])\n",
    "print (ct1)\n",
    "\n",
    "# column percentages\n",
    "colsum=ct1.sum(axis=0)\n",
    "colpct=ct1/colsum\n",
    "print(colpct)\n",
    "\n",
    "# chi-square\n",
    "print ('chi-square value, p value, expected counts')\n",
    "cs1= scipy.stats.chi2_contingency(ct1)\n",
    "print (cs1)\n",
    "\n",
    "# set variable types \n",
    "sub2[\"GROUPWITVIOLENCE\"] = sub2[\"GROUPWITVIOLENCE\"].astype('category')\n",
    "# new code for setting variables to numeric:\n",
    "sub2['H1GI21'] = pandas.to_numeric(sub2['H1GI21'], errors='coerce')\n",
    "\n",
    "# graph percent with people who left school within each witnesses violence group \n",
    "seaborn.factorplot(x=\"GROUPWITVIOLENCE\", y=\"H1GI21\", data=sub2, kind=\"bar\", ci=None)\n",
    "plt.xlabel('Groups by number of episodes of violence')\n",
    "plt.ylabel('Number of young people who gave up the school')\n",
    "\n",
    "recode2 = {0: 0, 1: 1}\n",
    "sub2['COMP1v1']= sub2['GROUPWITVIOLENCE'].map(recode2)\n",
    "\n",
    "# contingency table of observed counts\n",
    "ct2=pandas.crosstab(sub2['H1GI21'], sub2['COMP1v1'])\n",
    "print (ct2)\n",
    "\n",
    "# column percentages\n",
    "colsum=ct2.sum(axis=0)\n",
    "colpct=ct2/colsum\n",
    "print(colpct)\n",
    "\n",
    "print ('chi-square value, p value, expected counts')\n",
    "cs2= scipy.stats.chi2_contingency(ct2)\n",
    "print (cs2)\n",
    "\n",
    "recode3 = {0: 0, 2: 2}\n",
    "sub2['COMP1v2']= sub2['GROUPWITVIOLENCE'].map(recode3)\n",
    "\n",
    "# contingency table of observed counts\n",
    "ct3=pandas.crosstab(sub2['H1GI21'], sub2['COMP1v2'])\n",
    "print (ct3)\n",
    "\n",
    "# column percentages\n",
    "colsum=ct3.sum(axis=0)\n",
    "colpct=ct3/colsum\n",
    "print(colpct)\n",
    "\n",
    "print ('chi-square value, p value, expected counts')\n",
    "cs3= scipy.stats.chi2_contingency(ct3)\n",
    "print (cs3)\n",
    "\n",
    "recode3 = {1: 1, 2: 2}\n",
    "sub2['COMP1v3']= sub2['GROUPWITVIOLENCE'].map(recode3)\n",
    "\n",
    "# contingency table of observed counts\n",
    "ct4=pandas.crosstab(sub2['H1GI21'], sub2['COMP1v3'])\n",
    "print (ct4)\n",
    "\n",
    "# column percentages\n",
    "colsum=ct4.sum(axis=0)\n",
    "colpct=ct4/colsum\n",
    "print(colpct)\n",
    "\n",
    "print ('chi-square value, p value, expected counts')\n",
    "cs4= scipy.stats.chi2_contingency(ct4)\n",
    "print (cs4)\n",
    "\n",
    "\n"
   ]
  }
 ],
 "metadata": {
  "colab": {
   "collapsed_sections": [],
   "name": "gci_chisquare.ipynb",
   "provenance": []
  },
  "kernelspec": {
   "display_name": "Python 3 (ipykernel)",
   "language": "python",
   "name": "python3"
  },
  "language_info": {
   "codemirror_mode": {
    "name": "ipython",
    "version": 3
   },
   "file_extension": ".py",
   "mimetype": "text/x-python",
   "name": "python",
   "nbconvert_exporter": "python",
   "pygments_lexer": "ipython3",
   "version": "3.11.5"
  }
 },
 "nbformat": 4,
 "nbformat_minor": 1
}
