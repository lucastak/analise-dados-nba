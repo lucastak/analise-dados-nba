{
 "cells": [
  {
   "cell_type": "markdown",
   "metadata": {
    "id": "LapvsRZrdJch"
   },
   "source": [
    "#Teste ANOVA com 2 níveis\n",
    "\n",
    "##Questão de pesquisa\n",
    "\n",
    "> A depressão maior está associada à quantidade de cigarros entre os fumantes adultos jovens atuais?\n",
    "\n",
    "###População \n",
    "Jovens adultos fumantes\n",
    "\n",
    "###Variáveis\n",
    "\n",
    "*   **Variável Explanatória** (independente): \\[*Deprimido/não deprimido*\\]\n",
    "categórica, com 2 níveis\n",
    "*   **Variável de Resposta** (dependente)\n",
    "Quantidade de fumo, cigarros fumados por mês (1- 2940)\n",
    "\n",
    "\n",
    "###Hipóteses\n",
    "*   **Hipótese Nula:** Não há relação entre depressão e consumo de cigarros\n",
    "\n",
    "*   **Hipótese Alternativa:** A depressão influencia o consumo de cigarros\n",
    "\n",
    "\n",
    "###Iniciando nosso programa\n",
    "Importando as bibliotecas"
   ]
  },
  {
   "cell_type": "code",
   "execution_count": 1,
   "metadata": {
    "colab": {
     "base_uri": "https://localhost:8080/"
    },
    "id": "vUdjHwuRenNP",
    "outputId": "939d8bf2-b74a-4d2f-c515-80cc643d9986"
   },
   "outputs": [],
   "source": [
    "# -*- coding: utf-8 -*-\n",
    "\n",
    "import numpy\n",
    "import pandas\n",
    "import statsmodels.formula.api as smf\n",
    "import statsmodels.stats.multicomp as multi \n",
    "\n",
    "pandas.set_option('mode.chained_assignment', None)"
   ]
  },
  {
   "cell_type": "markdown",
   "metadata": {
    "id": "r2cTQvyuepjh"
   },
   "source": [
    "Importando o dataset Nesarc"
   ]
  },
  {
   "cell_type": "code",
   "execution_count": 3,
   "metadata": {
    "id": "T1jLjLQ8etxi"
   },
   "outputs": [],
   "source": [
    "data = pandas.read_csv('./datasets/nesarc_pds.csv', low_memory=False)"
   ]
  },
  {
   "cell_type": "markdown",
   "metadata": {
    "id": "s9XEGQuLJC_B"
   },
   "source": []
  },
  {
   "cell_type": "markdown",
   "metadata": {
    "id": "nfTaxrhye0Sj"
   },
   "source": [
    "Transformando os campos de texto em números"
   ]
  },
  {
   "cell_type": "code",
   "execution_count": 4,
   "metadata": {
    "id": "Vv4qqL52eyyR"
   },
   "outputs": [],
   "source": [
    "#setting variables you will be working with to numeric\n",
    "data['S3AQ3C1'] = pandas.to_numeric(data['S3AQ3C1'], errors='coerce')\n",
    "data['S3AQ3B1'] = pandas.to_numeric(data['S3AQ3B1'], errors='coerce')\n",
    "data['CHECK321'] = pandas.to_numeric(data['CHECK321'], errors='coerce')"
   ]
  },
  {
   "cell_type": "markdown",
   "metadata": {
    "id": "IoduKlPue7AW"
   },
   "source": [
    "Pegando a população: filtrando jovens que fumaram nos últimos 12 meses (CHECK321=1)"
   ]
  },
  {
   "cell_type": "code",
   "execution_count": 5,
   "metadata": {
    "id": "GTdEjgKpfBme"
   },
   "outputs": [],
   "source": [
    "#subset data to young adults age 18 to 25 who have smoked in the past 12 months\n",
    "sub1=data[(data['AGE']>=18) & (data['AGE']<=25) & (data['CHECK321']==1)]\n"
   ]
  },
  {
   "cell_type": "markdown",
   "metadata": {
    "id": "WfFQws_qfEuu"
   },
   "source": [
    "Tratando dados ausentes"
   ]
  },
  {
   "cell_type": "code",
   "execution_count": 6,
   "metadata": {
    "id": "RVGrRjL2fGND"
   },
   "outputs": [],
   "source": [
    "#SETTING MISSING DATA\n",
    "sub1['S3AQ3B1']=sub1['S3AQ3B1'].replace(9, numpy.nan)\n",
    "sub1['S3AQ3C1']=sub1['S3AQ3C1'].replace(99, numpy.nan)"
   ]
  },
  {
   "cell_type": "markdown",
   "metadata": {
    "id": "FHRxcNGlhxd8"
   },
   "source": [
    "Melhorando a codificação: alterando a ordem com recode1"
   ]
  },
  {
   "cell_type": "code",
   "execution_count": 7,
   "metadata": {
    "id": "sRf7x_wpiFJf"
   },
   "outputs": [],
   "source": [
    "#recoding number of days smoked in the past month\n",
    "recode1 = {1: 30, 2: 22, 3: 14, 4: 5, 5: 2.5, 6: 1}\n",
    "sub1['USFREQMO']= sub1['S3AQ3B1'].map(recode1)\n",
    "\n",
    "#converting new variable USFREQMMO to numeric\n",
    "sub1['USFREQMO']= pandas.to_numeric(sub1['USFREQMO'], errors='coerce')"
   ]
  },
  {
   "cell_type": "markdown",
   "metadata": {
    "id": "tD5UgCw7iH4p"
   },
   "source": [
    "Criando uma variável secundária multiplicando os dias fumados/mês e o número de cigarros/por dia\n",
    "\n",
    "Número de cigarros fumados no mês passado"
   ]
  },
  {
   "cell_type": "code",
   "execution_count": 8,
   "metadata": {
    "id": "l7cAoJ3xiWrD"
   },
   "outputs": [],
   "source": [
    "# Creating a secondary variable multiplying the days smoked/month and the number of cig/per day\n",
    "sub1['NUMCIGMO_EST']=sub1['USFREQMO'] * sub1['S3AQ3C1']\n",
    "\n",
    "sub1['NUMCIGMO_EST']= pandas.to_numeric(sub1['NUMCIGMO_EST'], errors='coerce')"
   ]
  },
  {
   "cell_type": "markdown",
   "metadata": {
    "id": "-ImooSM_idfR"
   },
   "source": [
    "Vamos testar os grupos criados:"
   ]
  },
  {
   "cell_type": "code",
   "execution_count": 9,
   "metadata": {
    "colab": {
     "base_uri": "https://localhost:8080/"
    },
    "id": "NbdX129LicNT",
    "outputId": "38bd8ed3-7329-49af-ab8b-5de68dd3bbb1"
   },
   "outputs": [
    {
     "name": "stdout",
     "output_type": "stream",
     "text": [
      "NUMCIGMO_EST\n",
      "1.0       29\n",
      "2.0       14\n",
      "2.5       11\n",
      "3.0       12\n",
      "4.0        2\n",
      "          ..\n",
      "1050.0     1\n",
      "1200.0    29\n",
      "1800.0     2\n",
      "2400.0     1\n",
      "2940.0     1\n",
      "Length: 66, dtype: int64\n"
     ]
    }
   ],
   "source": [
    "ct1 = sub1.groupby('NUMCIGMO_EST').size()\n",
    "print (ct1)"
   ]
  },
  {
   "cell_type": "markdown",
   "metadata": {
    "id": "zhf4j8NHiiL9"
   },
   "source": [
    "Hora de aplicar o Teste F de ANOVA\n",
    "Função ordinary least squares - OLS \n",
    "- Parâmetros \n",
    "  *  *formula* =\\[variável dependente\\] ~ variáve categórica. \n",
    "   * Perceba que colocamos dentro de C() para sinalizar que MAJORDEPLIFE é categórica.\n",
    "  * dataset (sub1)\n"
   ]
  },
  {
   "cell_type": "code",
   "execution_count": 10,
   "metadata": {
    "colab": {
     "base_uri": "https://localhost:8080/"
    },
    "id": "bAjSOnx6ikGf",
    "outputId": "508e24c3-7109-49c9-adf8-d4fdb793a2e0"
   },
   "outputs": [
    {
     "name": "stdout",
     "output_type": "stream",
     "text": [
      "                            OLS Regression Results                            \n",
      "==============================================================================\n",
      "Dep. Variable:           NUMCIGMO_EST   R-squared:                       0.002\n",
      "Model:                            OLS   Adj. R-squared:                  0.002\n",
      "Method:                 Least Squares   F-statistic:                     3.550\n",
      "Date:                Tue, 12 Jul 2022   Prob (F-statistic):             0.0597\n",
      "Time:                        21:56:56   Log-Likelihood:                -11934.\n",
      "No. Observations:                1697   AIC:                         2.387e+04\n",
      "Df Residuals:                    1695   BIC:                         2.388e+04\n",
      "Df Model:                           1                                         \n",
      "Covariance Type:            nonrobust                                         \n",
      "========================================================================================\n",
      "                           coef    std err          t      P>|t|      [0.025      0.975]\n",
      "----------------------------------------------------------------------------------------\n",
      "Intercept              312.8380      7.747     40.381      0.000     297.643     328.033\n",
      "C(MAJORDEPLIFE)[T.1]    28.5370     15.146      1.884      0.060      -1.169      58.243\n",
      "==============================================================================\n",
      "Omnibus:                      673.875   Durbin-Watson:                   1.982\n",
      "Prob(Omnibus):                  0.000   Jarque-Bera (JB):             5043.141\n",
      "Skew:                           1.672   Prob(JB):                         0.00\n",
      "Kurtosis:                      10.755   Cond. No.                         2.46\n",
      "==============================================================================\n",
      "\n",
      "Warnings:\n",
      "[1] Standard Errors assume that the covariance matrix of the errors is correctly specified.\n"
     ]
    }
   ],
   "source": [
    "# using ols function for calculating the F-statistic and associated p value\n",
    "model1 = smf.ols(formula='NUMCIGMO_EST ~ C(MAJORDEPLIFE)', data=sub1)\n",
    "results1 = model1.fit()\n",
    "print (results1.summary())"
   ]
  },
  {
   "cell_type": "markdown",
   "metadata": {
    "id": "ee8pLM1RkMdk"
   },
   "source": [
    "Vamos fazer um novo dataset com apenas as nossas variáveis de interesse \n",
    "* NUMCIGMO_EST\n",
    "* MAJOORDEPLIFE"
   ]
  },
  {
   "cell_type": "code",
   "execution_count": 11,
   "metadata": {
    "colab": {
     "base_uri": "https://localhost:8080/"
    },
    "id": "Aei12nnrkeGD",
    "outputId": "35ac3293-ef81-49f7-888a-feef47c233ed"
   },
   "outputs": [
    {
     "name": "stdout",
     "output_type": "stream",
     "text": [
      "means for numcigmo_est by major depression status\n",
      "              NUMCIGMO_EST\n",
      "MAJORDEPLIFE              \n",
      "0               312.837989\n",
      "1               341.375000\n",
      "standard deviations for numcigmo_est by major depression status\n",
      "              NUMCIGMO_EST\n",
      "MAJORDEPLIFE              \n",
      "0               269.002344\n",
      "1               288.495118\n"
     ]
    }
   ],
   "source": [
    "sub2 = sub1[['NUMCIGMO_EST', 'MAJORDEPLIFE']].dropna()\n",
    "\n",
    "print ('means for numcigmo_est by major depression status')\n",
    "m1= sub2.groupby('MAJORDEPLIFE').mean()\n",
    "print (m1)\n",
    "\n",
    "print ('standard deviations for numcigmo_est by major depression status')\n",
    "sd1 = sub2.groupby('MAJORDEPLIFE').std()\n",
    "print (sd1)"
   ]
  },
  {
   "cell_type": "markdown",
   "metadata": {
    "id": "gObvG4FVljWC"
   },
   "source": [
    "#Teste ANOVA com mais de 2 níveis\n",
    "\n",
    "##Questão de pesquisa\n",
    "\n",
    "> A etnia está associada à quantidade de cigarros entre os fumantes adultos jovens atuais?\n",
    "\n",
    "###População \n",
    "Jovens adultos fumantes\n",
    "\n",
    "###Variáveis\n",
    "\n",
    "*   **Variável Explanatória** (independente): \n",
    "\\[*Deprimido/não deprimido*\\]\n",
    "\n",
    "1.   Branco\n",
    "2.   Negro\n",
    "3.   Índio Americano, nativo do Alasca\n",
    "4.   Asiático ou havaiano\n",
    "5.   Latino\n",
    "\n",
    "\n",
    "categórica, com 2 níveis\n",
    "*   **Variável de Resposta** (dependente)\n",
    "Quantidade de fumo, cigarros fumados por mês (1- 2940)\n",
    "\n",
    "\n",
    "###Hipóteses\n",
    "*   **Hipótese Nula:** Não há relação entre etnia e consumo de cigarros\n",
    "\n",
    "*   **Hipótese Alternativa:** A etnia influencia o consumo de cigarros\n"
   ]
  },
  {
   "cell_type": "code",
   "execution_count": 12,
   "metadata": {
    "colab": {
     "base_uri": "https://localhost:8080/",
     "height": 217
    },
    "id": "L1jM4gyQm1IB",
    "outputId": "f179333e-0913-41ca-c09c-e6ce3668d12c"
   },
   "outputs": [
    {
     "name": "stdout",
     "output_type": "stream",
     "text": [
      "                            OLS Regression Results                            \n",
      "==============================================================================\n",
      "Dep. Variable:           NUMCIGMO_EST   R-squared:                       0.055\n",
      "Model:                            OLS   Adj. R-squared:                  0.052\n",
      "Method:                 Least Squares   F-statistic:                     24.40\n",
      "Date:                Tue, 12 Jul 2022   Prob (F-statistic):           1.18e-19\n",
      "Time:                        21:57:17   Log-Likelihood:                -11888.\n",
      "No. Observations:                1697   AIC:                         2.379e+04\n",
      "Df Residuals:                    1692   BIC:                         2.381e+04\n",
      "Df Model:                           4                                         \n",
      "Covariance Type:            nonrobust                                         \n",
      "=====================================================================================\n",
      "                        coef    std err          t      P>|t|      [0.025      0.975]\n",
      "-------------------------------------------------------------------------------------\n",
      "Intercept           368.7865      8.229     44.814      0.000     352.646     384.927\n",
      "C(ETHRACE2A)[T.2]  -109.5127     20.189     -5.424      0.000    -149.111     -69.914\n",
      "C(ETHRACE2A)[T.3]   -57.7984     42.038     -1.375      0.169    -140.250      24.653\n",
      "C(ETHRACE2A)[T.4]  -124.5279     36.033     -3.456      0.001    -195.201     -53.854\n",
      "C(ETHRACE2A)[T.5]  -149.0283     16.795     -8.873      0.000    -181.969    -116.087\n",
      "==============================================================================\n",
      "Omnibus:                      712.397   Durbin-Watson:                   1.994\n",
      "Prob(Omnibus):                  0.000   Jarque-Bera (JB):             6548.614\n",
      "Skew:                           1.717   Prob(JB):                         0.00\n",
      "Kurtosis:                      11.990   Cond. No.                         6.72\n",
      "==============================================================================\n",
      "\n",
      "Warnings:\n",
      "[1] Standard Errors assume that the covariance matrix of the errors is correctly specified.\n"
     ]
    }
   ],
   "source": [
    "sub3 = sub1[['NUMCIGMO_EST', 'ETHRACE2A']].dropna()\n",
    "\n",
    "model2 = smf.ols(formula='NUMCIGMO_EST ~ C(ETHRACE2A)', data=sub3).fit()\n",
    "print (model2.summary())\n"
   ]
  },
  {
   "cell_type": "markdown",
   "metadata": {
    "id": "BAksDST_m4z8"
   },
   "source": [
    "Agora vamos analisar os grupos"
   ]
  },
  {
   "cell_type": "code",
   "execution_count": 13,
   "metadata": {
    "colab": {
     "base_uri": "https://localhost:8080/"
    },
    "id": "Qg6jNHV5dHxz",
    "outputId": "d30d3f28-5622-403f-bee7-a56b1d42c227"
   },
   "outputs": [
    {
     "name": "stdout",
     "output_type": "stream",
     "text": [
      "means for numcigmo_est by major depression status\n",
      "           NUMCIGMO_EST\n",
      "ETHRACE2A              \n",
      "1            368.786528\n",
      "2            259.273810\n",
      "3            310.988095\n",
      "4            244.258621\n",
      "5            219.758258\n",
      "standard deviations for numcigmo_est by major depression status\n",
      "           NUMCIGMO_EST\n",
      "ETHRACE2A              \n",
      "1            281.430730\n",
      "2            278.677392\n",
      "3            260.116964\n",
      "4            195.076441\n",
      "5            220.859365\n"
     ]
    }
   ],
   "source": [
    "print ('means for numcigmo_est by major depression status')\n",
    "m2= sub3.groupby('ETHRACE2A').mean()\n",
    "print (m2)\n",
    "\n",
    "print ('standard deviations for numcigmo_est by major depression status')\n",
    "sd2 = sub3.groupby('ETHRACE2A').std()\n",
    "print (sd2)\n"
   ]
  },
  {
   "cell_type": "markdown",
   "metadata": {
    "id": "FNyM-UZnnnbl"
   },
   "source": [
    "Resumo das etnias\n",
    "Teste Post Hoc"
   ]
  },
  {
   "cell_type": "code",
   "execution_count": 14,
   "metadata": {
    "colab": {
     "base_uri": "https://localhost:8080/"
    },
    "id": "DitJH6xgnoDb",
    "outputId": "fdbce895-f8ec-4e0e-fbc2-859aaa91994e"
   },
   "outputs": [
    {
     "name": "stdout",
     "output_type": "stream",
     "text": [
      "   Multiple Comparison of Means - Tukey HSD, FWER=0.05   \n",
      "=========================================================\n",
      "group1 group2  meandiff p-adj    lower     upper   reject\n",
      "---------------------------------------------------------\n",
      "     1      2 -109.5127  0.001 -164.6441  -54.3814   True\n",
      "     1      3  -57.7984 0.6251 -172.5914   56.9945  False\n",
      "     1      4 -124.5279 0.0051 -222.9229  -26.1329   True\n",
      "     1      5 -149.0283  0.001   -194.89 -103.1665   True\n",
      "     2      3   51.7143 0.7555  -71.6021  175.0307  False\n",
      "     2      4  -15.0152    0.9  -123.233   93.2026  False\n",
      "     2      5  -39.5156 0.4492 -103.8025   24.7714  False\n",
      "     3      4  -66.7295 0.7058 -214.5437   81.0848  False\n",
      "     3      5  -91.2298 0.2269 -210.6902   28.2305  False\n",
      "     4      5  -24.5004    0.9 -128.3027    79.302  False\n",
      "---------------------------------------------------------\n"
     ]
    }
   ],
   "source": [
    "mc1 = multi.MultiComparison(sub3['NUMCIGMO_EST'], sub3['ETHRACE2A'])\n",
    "res1 = mc1.tukeyhsd()\n",
    "print(res1.summary())"
   ]
  },
  {
   "cell_type": "code",
   "execution_count": null,
   "metadata": {},
   "outputs": [],
   "source": []
  }
 ],
 "metadata": {
  "colab": {
   "collapsed_sections": [],
   "name": "gci_anova.ipynb",
   "provenance": []
  },
  "kernelspec": {
   "display_name": "Python 3 (ipykernel)",
   "language": "python",
   "name": "python3"
  },
  "language_info": {
   "codemirror_mode": {
    "name": "ipython",
    "version": 3
   },
   "file_extension": ".py",
   "mimetype": "text/x-python",
   "name": "python",
   "nbconvert_exporter": "python",
   "pygments_lexer": "ipython3",
   "version": "3.11.5"
  }
 },
 "nbformat": 4,
 "nbformat_minor": 1
}
